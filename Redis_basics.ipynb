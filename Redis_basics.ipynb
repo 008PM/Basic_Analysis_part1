{
  "cells": [
    {
      "cell_type": "code",
      "execution_count": null,
      "id": "038e5620-0fb2-44cb-9ca0-4f8f575c07e8",
      "metadata": {
        "id": "038e5620-0fb2-44cb-9ca0-4f8f575c07e8",
        "outputId": "69394e52-5773-4ee6-9fa1-a050b3283f61"
      },
      "outputs": [
        {
          "name": "stdout",
          "output_type": "stream",
          "text": [
            "Collecting redis\n",
            "  Downloading redis-5.2.0-py3-none-any.whl.metadata (9.1 kB)\n",
            "Downloading redis-5.2.0-py3-none-any.whl (261 kB)\n",
            "\u001b[2K   \u001b[90m━━━━━━━━━━━━━━━━━━━━━━━━━━━━━━━━━━━━━━━━\u001b[0m \u001b[32m261.4/261.4 kB\u001b[0m \u001b[31m4.5 MB/s\u001b[0m eta \u001b[36m0:00:00\u001b[0ma \u001b[36m0:00:01\u001b[0m\n",
            "\u001b[?25hInstalling collected packages: redis\n",
            "Successfully installed redis-5.2.0\n"
          ]
        }
      ],
      "source": [
        "!pip install redis\n"
      ]
    },
    {
      "cell_type": "code",
      "execution_count": null,
      "id": "f6921edc-c5dc-4b50-87ce-3461dea2509e",
      "metadata": {
        "id": "f6921edc-c5dc-4b50-87ce-3461dea2509e",
        "outputId": "1886b82b-3946-4fa0-a86f-4cc211d4705a"
      },
      "outputs": [
        {
          "name": "stdout",
          "output_type": "stream",
          "text": [
            "{'user': {'id': 123, 'name': 'John Doe', 'address': {'street': '123 Main St', 'city': 'Anytown', 'state': 'AN', 'zip': '12345'}, 'orders': [{'order_id': 1, 'total': 29.99, 'items': ['item1', 'item2']}, {'order_id': 2, 'total': 49.99, 'items': ['item3', 'item4']}]}}\n"
          ]
        }
      ],
      "source": [
        "import redis\n",
        "import json\n",
        "\n",
        "# Connect to Redis (assuming the default host and port)\n",
        "r = redis.Redis(host='localhost', port=6379, db=0)\n",
        "\n",
        "# Sample nested JSON data\n",
        "sample_data = {\n",
        "    \"user\": {\n",
        "        \"id\": 123,\n",
        "        \"name\": \"John Doe\",\n",
        "        \"address\": {\n",
        "            \"street\": \"123 Main St\",\n",
        "            \"city\": \"Anytown\",\n",
        "            \"state\": \"AN\",\n",
        "            \"zip\": \"12345\"\n",
        "        },\n",
        "        \"orders\": [\n",
        "            {\"order_id\": 1, \"total\": 29.99, \"items\": [\"item1\", \"item2\"]},\n",
        "            {\"order_id\": 2, \"total\": 49.99, \"items\": [\"item3\", \"item4\"]}\n",
        "        ]\n",
        "    }\n",
        "}\n",
        "\n",
        "# Step 1: Insert the JSON data into Redis (as a string)\n",
        "r.set('user:123', json.dumps(sample_data))\n",
        "\n",
        "# Step 2: Retrieve the data from Redis\n",
        "retrieved_data = r.get('user:123')\n",
        "\n",
        "# Step 3: Convert the retrieved data back to JSON\n",
        "retrieved_json = json.loads(retrieved_data)\n",
        "\n",
        "\n",
        "# Display the retrieved data\n",
        "print(retrieved_json)\n"
      ]
    },
    {
      "cell_type": "code",
      "execution_count": null,
      "id": "92676230-8222-4309-8130-d0691c1efd15",
      "metadata": {
        "id": "92676230-8222-4309-8130-d0691c1efd15",
        "outputId": "7e3cfbd2-d065-4e04-ba88-3347c7c8660c"
      },
      "outputs": [
        {
          "name": "stdout",
          "output_type": "stream",
          "text": [
            "User Name: John Doe\n",
            "Zip Code: 12345\n",
            "First Order ID: 1\n",
            "Second Order Total: 49.99\n",
            "First Order Products: ['item1', 'item2']\n"
          ]
        }
      ],
      "source": [
        "# Accessing different nested values\n",
        "user_name = retrieved_json[\"user\"][\"name\"]\n",
        "zip_code = retrieved_json[\"user\"][\"address\"][\"zip\"]\n",
        "first_order_id = retrieved_json[\"user\"][\"orders\"][0][\"order_id\"]\n",
        "second_order_total = retrieved_json[\"user\"][\"orders\"][1][\"total\"]\n",
        "first_order_products = retrieved_json[\"user\"][\"orders\"][0][\"items\"]\n",
        "\n",
        "# Printing the results\n",
        "print(\"User Name:\", user_name)\n",
        "print(\"Zip Code:\", zip_code)\n",
        "print(\"First Order ID:\", first_order_id)\n",
        "print(\"Second Order Total:\", second_order_total)\n",
        "print(\"First Order Products:\", first_order_products)\n"
      ]
    },
    {
      "cell_type": "code",
      "execution_count": null,
      "id": "6cc2a60e-29b7-4084-80fc-ed2b7f18d6a6",
      "metadata": {
        "id": "6cc2a60e-29b7-4084-80fc-ed2b7f18d6a6"
      },
      "outputs": [],
      "source": []
    },
    {
      "cell_type": "code",
      "execution_count": null,
      "id": "fb3ac2b3-2142-4bda-8240-4e1d63d8b761",
      "metadata": {
        "id": "fb3ac2b3-2142-4bda-8240-4e1d63d8b761"
      },
      "outputs": [],
      "source": []
    }
  ],
  "metadata": {
    "kernelspec": {
      "display_name": "Python 3 (ipykernel)",
      "language": "python",
      "name": "python3"
    },
    "language_info": {
      "codemirror_mode": {
        "name": "ipython",
        "version": 3
      },
      "file_extension": ".py",
      "mimetype": "text/x-python",
      "name": "python",
      "nbconvert_exporter": "python",
      "pygments_lexer": "ipython3",
      "version": "3.12.3"
    },
    "colab": {
      "provenance": []
    }
  },
  "nbformat": 4,
  "nbformat_minor": 5
}