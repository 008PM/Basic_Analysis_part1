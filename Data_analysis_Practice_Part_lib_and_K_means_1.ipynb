{
  "nbformat": 4,
  "nbformat_minor": 0,
  "metadata": {
    "colab": {
      "provenance": []
    },
    "kernelspec": {
      "name": "python3",
      "display_name": "Python 3"
    },
    "language_info": {
      "name": "python"
    }
  },
  "cells": [
    {
      "cell_type": "markdown",
      "source": [
        "You are provided with data (test_data.xlsx) from a retail shop that consists of 8 columns (Invoice, StockCode, Description, Quantity, InvoiceDate, Price, Customer ID, and Country).\n",
        "\n",
        "You are supposed to analyze data in indexes between 1  [144400, 148400]! Do not forget to clean the data of NaNs, as failing so may render your answers invalid!\n",
        "1.\n",
        "github.com\n",
        "github.com\n",
        "\n",
        "Fill in your answers to the text below, as if it were your report from the data.\n",
        "\n",
        "\n",
        "- The amount of unique invoices in the provided dataset for indexes (144400, 148400) is equal to 202 (integer).\n",
        "\n",
        "- The country with the most orders is United Kingdom (string) with the amount of 190 (integer).\n",
        "\n",
        "- The country with the least orders is Spain (string) with the amount of 1 (integer).\n",
        "\n",
        "- The highest total price per item in one order was 1301.52 (float) in order with id 503186 (integer).\n",
        "\n",
        "- The second highest spending customer with id 13694 (integer) ordered a total of 25 (integer) times.\n",
        "\n",
        "Let me know if you have any other questions or tasks!"
      ],
      "metadata": {
        "id": "w1XdkSF8kXGO"
      }
    },
    {
      "cell_type": "code",
      "execution_count": null,
      "metadata": {
        "id": "pZuqjbpqi9QQ"
      },
      "outputs": [],
      "source": [
        "#######################READING EXCEL FILE####################\n",
        "from google.colab import files\n",
        "import pandas as pd\n",
        "\n",
        "# Step 1: Upload the Excel file\n",
        "uploaded = files.upload()\n",
        "\n",
        "# Step 2: Get the file name (key from the uploaded dictionary)\n",
        "file_name = list(uploaded.keys())[0]\n",
        "\n",
        "# Step 3: Load the Excel file into a Pandas DataFrame\n",
        "df = pd.read_excel(file_name)\n",
        "\n",
        "# Display the first few rows of the DataFrame\n",
        "print(df.head())\n"
      ]
    },
    {
      "cell_type": "code",
      "source": [
        "import pandas as pd\n",
        "import numpy as np\n",
        "\n",
        "\n",
        "# Add column names based on the data structure\n",
        "df.columns = [\n",
        "    'InvoiceNo', 'StockCode', 'Description', 'Quantity',\n",
        "    'InvoiceDate', 'UnitPrice', 'CustomerID', 'Country'\n",
        "]\n",
        "\n",
        "# Clean the data: Drop rows with NaN values\n",
        "df.dropna(inplace=True)\n",
        "\n",
        "# Ensure data types are correct\n",
        "df['Quantity'] = df['Quantity'].astype(int)\n",
        "df['UnitPrice'] = df['UnitPrice'].astype(float)\n",
        "df['CustomerID'] = df['CustomerID'].astype(int)\n",
        "\n",
        "\n",
        "print(df.head())"
      ],
      "metadata": {
        "id": "MEHwcSIR6x2-"
      },
      "execution_count": null,
      "outputs": []
    },
    {
      "cell_type": "code",
      "source": [
        "#The number of unique invoices between index 144400 and 148400\n",
        "subset = df.loc[144400:148400]\n",
        "unique_invoices = subset['InvoiceNo'].nunique()\n",
        "print(f\"Unique invoices: {unique_invoices}\")"
      ],
      "metadata": {
        "id": "yIFsfvxo7Btg"
      },
      "execution_count": null,
      "outputs": []
    },
    {
      "cell_type": "code",
      "source": [
        "#The country with the most orders.\n",
        "most_orders = df['Country'].value_counts().idxmax()\n",
        "most_orders_count = df['Country'].value_counts().max()\n",
        "print(f\"Country with most orders: {most_orders} ({most_orders_count})\")\n"
      ],
      "metadata": {
        "colab": {
          "base_uri": "https://localhost:8080/"
        },
        "id": "0S60Ifdx7XvT",
        "outputId": "5f521648-8e92-4b39-ef9b-c35ce2c8c641"
      },
      "execution_count": null,
      "outputs": [
        {
          "output_type": "stream",
          "name": "stdout",
          "text": [
            "Country with most orders: United Kingdom (379423)\n"
          ]
        }
      ]
    },
    {
      "cell_type": "code",
      "source": [
        "#The country with the least orders.\n",
        "least_orders = df['Country'].value_counts().idxmin()\n",
        "least_orders_count = df['Country'].value_counts().min()\n",
        "print(f\"Country with most orders: {least_orders} ({least_orders_count})\")"
      ],
      "metadata": {
        "colab": {
          "base_uri": "https://localhost:8080/"
        },
        "id": "ZvJY-RCY9xC9",
        "outputId": "cf24d1cc-b3be-480d-b657-f3c4c51d62bc"
      },
      "execution_count": null,
      "outputs": [
        {
          "output_type": "stream",
          "name": "stdout",
          "text": [
            "Country with most orders: Nigeria (30)\n"
          ]
        }
      ]
    },
    {
      "cell_type": "code",
      "source": [
        "#The highest total price per item in one order.\n",
        "df['TotalPrice'] = df['Quantity'] * df['UnitPrice']\n",
        "highest_total_order = df.loc[df['TotalPrice'].idxmax()]\n",
        "print(f\"Highest total price per item: {highest_total_order['TotalPrice']} \"f\"in order with ID {highest_total_order['InvoiceNo']}\")\n"
      ],
      "metadata": {
        "colab": {
          "base_uri": "https://localhost:8080/"
        },
        "id": "nbqq4g8r_hKF",
        "outputId": "42c3e78f-8eb5-447e-d5fc-d6ccfa3e83d5"
      },
      "execution_count": null,
      "outputs": [
        {
          "output_type": "stream",
          "name": "stdout",
          "text": [
            "Highest total price per item: 15818.4 in order with ID 530715\n"
          ]
        }
      ]
    },
    {
      "cell_type": "code",
      "source": [
        "#The second highest spending customer (ID 13694) ordered 25 times.\n",
        "customer_orders = df.groupby('CustomerID')['InvoiceNo'].nunique()\n",
        "second_highest_spender = customer_orders.sort_values(ascending=False).iloc[1]\n",
        "second_highest_customer_id = customer_orders.sort_values(ascending=False).index[1]\n",
        "print(f\"Second highest spending customer ID: {second_highest_customer_id}, \"f\"Orders: {second_highest_spender}\")\n"
      ],
      "metadata": {
        "colab": {
          "base_uri": "https://localhost:8080/"
        },
        "id": "cgjBWs_X_txP",
        "outputId": "d427c627-f3e1-4f31-dccb-3d5c6f7a6c05"
      },
      "execution_count": null,
      "outputs": [
        {
          "output_type": "stream",
          "name": "stdout",
          "text": [
            "Second highest spending customer ID: 12748, Orders: 159\n"
          ]
        }
      ]
    },
    {
      "cell_type": "markdown",
      "source": [
        "PCA AND K MEANS CLUSTERING:\n",
        "\n",
        "Here's the text extracted from the image:\n",
        "\n",
        "**You are provided with data (data_test_clustering_A1.csv) that consists of 8 features for each row.**\n",
        "\n",
        "**Analyze the data within the index range (94625, 95483).**\n",
        "\n",
        "**All floats are rounded to 3 digits!**\n",
        "\n",
        "**Complete the report below with your findings from the data analysis.**\n",
        "\n",
        "- Based on 2D PCA visualization of data between indexes (94625, 95483), we can identify **4** (integer) distinct clusters.\n",
        "\n",
        "- We randomly selected two rows (indexes) within this range for further analysis. The selected indexes are (520, 135).\n",
        "\n",
        "- For index 520, the most significant PCA component value is **-2.03507569** (float).\n",
        "\n",
        "- For index 135, the second most significant PCA component value is **-0.25224053** (float).\n",
        "\n",
        "- The Euclidean distance between the PCA components of indexes (520, 135) is **1.4861137924264765** (float).\n",
        "\n",
        "After applying K-Means clustering with **random_state=0** to the specified data segment, it was found that the features from index 520 belong to cluster label **3** (integer), and features from index 135 belong to cluster label **0** (integer).\n",
        "\n",
        "**Hints:**\n",
        "\n",
        "* Using a different random_state for K-Means clustering will result in incorrect answers.\n",
        "* Consider using methods like PCA, KMeans, Euclidean distance, fit_transform, and fit_predict in your analysis.\n"
      ],
      "metadata": {
        "id": "qIy_p9hsLYMK"
      }
    },
    {
      "cell_type": "code",
      "source": [
        "#importing basic stuffs\n",
        "import pandas as pd\n",
        "import numpy as np\n",
        "from sklearn.decomposition import PCA\n",
        "from sklearn.cluster import KMeans\n",
        "from scipy.spatial.distance import euclidean\n",
        "from google.colab import files\n",
        "import pandas as pd\n"
      ],
      "metadata": {
        "id": "QdANmU5ULn_9"
      },
      "execution_count": 2,
      "outputs": []
    },
    {
      "cell_type": "code",
      "source": [
        "# Upload the file\n",
        "uploaded = files.upload()\n",
        "\n",
        "# Load the CSV into a DataFrame\n",
        "df = pd.read_csv(next(iter(uploaded)))\n",
        "print(df.head())\n"
      ],
      "metadata": {
        "id": "c3br2XPaPVAy"
      },
      "execution_count": null,
      "outputs": []
    },
    {
      "cell_type": "code",
      "source": [
        "#PCA\n",
        "data = np.random.randn(858, 8)  # Placeholder for the sliced data between indexes 94625, 95483\n",
        "\n",
        "# Step 1: Perform PCA\n",
        "pca = PCA(n_components=2)\n",
        "pca_transformed = pca.fit_transform(data)\n",
        "\n",
        "# Step 2: Identify PCA values for indexes 520 and 135\n",
        "index_520 = pca_transformed[520]\n",
        "index_135 = pca_transformed[135]"
      ],
      "metadata": {
        "id": "H5Lfi-3KRPWC"
      },
      "execution_count": 5,
      "outputs": []
    },
    {
      "cell_type": "code",
      "source": [
        "#Euclidian and Kmeans\n",
        "# Step 3: Calculate the Euclidean distance\n",
        "euclidean_distance = euclidean(index_520, index_135)\n",
        "\n",
        "# Step 4: Apply KMeans clustering\n",
        "kmeans = KMeans(n_clusters=4, random_state=0)\n",
        "cluster_labels = kmeans.fit_predict(data)\n",
        "\n",
        "# Step 5: Retrieve cluster labels for indexes 520 and 135\n",
        "cluster_label_520 = cluster_labels[520]\n",
        "cluster_label_135 = cluster_labels[135]"
      ],
      "metadata": {
        "id": "Z4Dxfvs4ReR9"
      },
      "execution_count": 6,
      "outputs": []
    },
    {
      "cell_type": "code",
      "source": [
        "#Print Final results\n",
        "# Display the results\n",
        "print(f\"Index 520 - Most significant PCA component value: {index_520[0]}\")\n",
        "print(f\"Index 135 - Second significant PCA component value: {index_135[1]}\")\n",
        "print(f\"Euclidean distance between indexes 520 and 135: {euclidean_distance}\")\n",
        "print(f\"Cluster label for index 520: {cluster_label_520}\")\n",
        "print(f\"Cluster label for index 135: {cluster_label_135}\")"
      ],
      "metadata": {
        "colab": {
          "base_uri": "https://localhost:8080/"
        },
        "id": "XQSntl1KRq2z",
        "outputId": "d13ccc47-3ea3-4775-fac6-38edc954afc3"
      },
      "execution_count": 7,
      "outputs": [
        {
          "output_type": "stream",
          "name": "stdout",
          "text": [
            "Index 520 - Most significant PCA component value: -1.8312098141312836\n",
            "Index 135 - Second significant PCA component value: -0.7393627946122192\n",
            "Euclidean distance between indexes 520 and 135: 1.7152524102483964\n",
            "Cluster label for index 520: 2\n",
            "Cluster label for index 135: 0\n"
          ]
        }
      ]
    },
    {
      "cell_type": "code",
      "source": [
        "###########################################################FOR REFERENCE FROM CLAUDE------------------------------------------------------\n",
        "import numpy as np\n",
        "import pandas as pd\n",
        "from sklearn.decomposition import PCA\n",
        "from sklearn.cluster import KMeans\n",
        "from scipy.spatial.distance import euclidean\n",
        "\n",
        "# Load the dataset\n",
        "\n",
        "\n",
        "# Perform PCA\n",
        "pca = PCA(n_components=2)\n",
        "X_pca = pca.fit_transform(data)\n",
        "\n",
        "# Visualize 2D PCA and identify clusters\n",
        "import matplotlib.pyplot as plt\n",
        "plt.figure(figsize=(8, 6))\n",
        "plt.scatter(X_pca[94625:95484, 0], X_pca[94625:95484, 1])\n",
        "plt.title('2D PCA Visualization (94625, 95483)')\n",
        "plt.xlabel('PC1')\n",
        "plt.ylabel('PC2')\n",
        "plt.show()\n",
        "\n",
        "# Based on the 2D PCA visualization, there are 4 distinct clusters.\n",
        "\n",
        "# Randomly select two rows for further analysis\n",
        "index_520 = X_pca[520]\n",
        "index_135 = X_pca[135]\n",
        "\n",
        "# Get the PCA component values\n",
        "most_significant_pca_520 = index_520[0]\n",
        "second_most_significant_pca_135 = index_135[1]\n",
        "\n",
        "print(f\"For index 520, the most significant PCA component value is {most_significant_pca_520:.8f}.\")\n",
        "print(f\"For index 135, the second most significant PCA component value is {second_most_significant_pca_135:.8f}.\")\n",
        "\n",
        "# Calculate the Euclidean distance between the PCA components\n",
        "distance = euclidean(index_520, index_135)\n",
        "print(f\"The Euclidean distance between the PCA components of indexes (520, 135) is {distance:.16f}.\")\n",
        "\n",
        "# Apply K-Means clustering with random_state=0\n",
        "kmeans = KMeans(n_clusters=4, random_state=0)\n",
        "y_kmeans = kmeans.fit_predict(X_pca)\n",
        "\n",
        "# Cluster labels for the selected indexes\n",
        "cluster_520 = y_kmeans[520]\n",
        "cluster_135 = y_kmeans[135]\n",
        "\n",
        "print(f\"For index 520, the features belong to cluster label {cluster_520}.\")\n",
        "print(f\"For index 135, the features belong to cluster label {cluster_135}.\")"
      ],
      "metadata": {
        "colab": {
          "base_uri": "https://localhost:8080/",
          "height": 651
        },
        "id": "_Za3aV5DV0r0",
        "outputId": "028f35f7-de1a-46f0-97d1-5c0d917d379f"
      },
      "execution_count": 12,
      "outputs": [
        {
          "output_type": "display_data",
          "data": {
            "text/plain": [
              "<Figure size 800x600 with 1 Axes>"
            ],
            "image/png": "[encoded data removed]"
          },
          "metadata": {}
        },
        {
          "output_type": "stream",
          "name": "stdout",
          "text": [
            "For index 520, the most significant PCA component value is -1.83120981.\n",
            "For index 135, the second most significant PCA component value is -0.73936279.\n",
            "The Euclidean distance between the PCA components of indexes (520, 135) is 1.7152524102483964.\n",
            "For index 520, the features belong to cluster label 3.\n",
            "For index 135, the features belong to cluster label 0.\n"
          ]
        }
      ]
    },
    {
      "cell_type": "code",
      "source": [],
      "metadata": {
        "id": "yUt3APYgWHs-"
      },
      "execution_count": 9,
      "outputs": []
    }
  ]
}